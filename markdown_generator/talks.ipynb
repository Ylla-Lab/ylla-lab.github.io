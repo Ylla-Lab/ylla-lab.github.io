{
 "cells": [
  {
   "cell_type": "markdown",
   "metadata": {},
   "source": [
    "# Talks markdown generator for academicpages\n",
    "\n",
    "Takes a TSV of talks with metadata and converts them for use with [academicpages.github.io](academicpages.github.io). This is an interactive Jupyter notebook ([see more info here](http://jupyter-notebook-beginner-guide.readthedocs.io/en/latest/what_is_jupyter.html)). The core python code is also in `talks.py`. Run either from the `markdown_generator` folder after replacing `talks.tsv` with one containing your data.\n",
    "\n",
    "TODO: Make this work with BibTex and other databases, rather than Stuart's non-standard TSV format and citation style."
   ]
  },
  {
   "cell_type": "code",
   "execution_count": 1,
   "metadata": {
    "jupyter": {
     "outputs_hidden": false
    }
   },
   "outputs": [],
   "source": [
    "import pandas as pd\n",
    "import os"
   ]
  },
  {
   "cell_type": "markdown",
   "metadata": {},
   "source": [
    "## Data format\n",
    "\n",
    "The TSV needs to have the following columns: title, type, url_slug, venue, date, location, talk_url, description, with a header at the top. Many of these fields can be blank, but the columns must be in the TSV.\n",
    "\n",
    "- Fields that cannot be blank: `title`, `url_slug`, `date`. All else can be blank. `type` defaults to \"Talk\" \n",
    "- `date` must be formatted as YYYY-MM-DD.\n",
    "- `url_slug` will be the descriptive part of the .md file and the permalink URL for the page about the paper. \n",
    "    - The .md file will be `YYYY-MM-DD-[url_slug].md` and the permalink will be `https://[yourdomain]/talks/YYYY-MM-DD-[url_slug]`\n",
    "    - The combination of `url_slug` and `date` must be unique, as it will be the basis for your filenames\n",
    "\n",
    "This is how the raw file looks (it doesn't look pretty, use a spreadsheet or other program to edit and create)."
   ]
  },
  {
   "cell_type": "code",
   "execution_count": 2,
   "metadata": {
    "jupyter": {
     "outputs_hidden": false
    }
   },
   "outputs": [
    {
     "name": "stdout",
     "output_type": "stream",
     "text": [
      "title\ttype\turl_slug\tvenue\tdate\tlocation\ttalk_url\tdescription\r\n",
      "The new FBBB’s Laboratory of Bioinformatics and Genome Biology: computational approaches to study genes, genomes, gene regulatory networks\tTalk\tjubilee\tThe Jubilee Conference of the Faculty of Biochemistry and Biotechnology at the Jagiellonian University.\t24/09/2021\tJagiellonian University, Krakow, Poland\thttps://jubileuszwbbib.confer.uj.edu.pl/en_GB/program/ksiazka-streszczen\t[Photo1](JW210926_356.jpg)[Photo2](JW210926_360.jpg)[Photo3](JW210926_363.jpg)\r\n",
      "Small RNAs: when the small rule the bigger\tTalk\twinterschool22\tXLIX Winter School of the Faculty of Biochemistry and Biotechnology at the Jagiellonian University.\t22/02/2022\tJagiellonian University, Krakow, Poland\thttps://winterschool.wbbib.uj.edu.pl/en_GB/\tGuillem Ylla gave a talk in the workshop titled “Omics research – from methodology to application” about the role of small RNAs controlling the expression of mRNAs. ![](WBBiB_Winter_School_2022_slide2.jpg)\r\n",
      "Could E93 play the adult specifier role in the embryo? \tTalk\tice2022\tInternational Congress of Entomology 2022.\t20/07/2022\tHelsinki, Finland\thttps://ice2020helsinki.fi/\t\r\n",
      "Comparative genomics of insects to unveil the evolution of gene regulatory networks.\tTalk\tBibtorun2022\tBioinformatics in Torun conference by the Polish Bioinformatics Society  2022.\t24/06/2022\tTorun, Poland\thttps://www.ptbi.org.pl/website/conferences/bit22/\t\r\n",
      "Cricket genomes: unveiling the genomes of future food.\tTalk\tPCG2022\t6th Polish Congress of Genetics\t30/06/2022\tKrakow, Pland\thttps://kongresgenetyki2022.jordan.pl/\t[Photo4](IMG_0161.jpg)\r\n",
      "Non-traditional insect models are key for understanding the evolution and regulation of insect metamorphosis\tTalk\tNtrAMS\tNon-Traditional Arthropod Model Systems Meeting: Studying Form and Function\t03/08/2023\tBowdoin College, Brunswick, Maine, USA\thttps://www.bowdoin.edu/events/conferences/ntrams-summer-conference.html\t\r\n",
      "Using bioinformatics to unveil the mysteries of animal evolution.\tTalk\tICG-18\t18th Annual Meeting of the International Conference on Genomics (ICG-18) Youth Symposium\t26/07/2023\tShenzhen, China, July 26h 2023\thttps://icg.bio/en/ICG18index/index.aspx\t\r\n",
      "Using bioinformatics to unveil the mysteries of animal evolution.\tTalk\tGenomica\t7th Polish Conference of Genetics: “Genomica”\t20/05/2023\tJagiellonian University, Krakow, Poland\thttp://www.genomica.pl/en/home-page/\t\r\n"
     ]
    }
   ],
   "source": [
    "!cat ../_talks/YllaLab_Talks.tsv"
   ]
  },
  {
   "cell_type": "markdown",
   "metadata": {},
   "source": [
    "## Import TSV\n",
    "\n",
    "Pandas makes this easy with the read_csv function. We are using a TSV, so we specify the separator as a tab, or `\\t`.\n",
    "\n",
    "I found it important to put this data in a tab-separated values format, because there are a lot of commas in this kind of data and comma-separated values can get messed up. However, you can modify the import statement, as pandas also has read_excel(), read_json(), and others."
   ]
  },
  {
   "cell_type": "code",
   "execution_count": 3,
   "metadata": {
    "jupyter": {
     "outputs_hidden": false
    }
   },
   "outputs": [
    {
     "data": {
      "text/html": [
       "<div>\n",
       "<style scoped>\n",
       "    .dataframe tbody tr th:only-of-type {\n",
       "        vertical-align: middle;\n",
       "    }\n",
       "\n",
       "    .dataframe tbody tr th {\n",
       "        vertical-align: top;\n",
       "    }\n",
       "\n",
       "    .dataframe thead th {\n",
       "        text-align: right;\n",
       "    }\n",
       "</style>\n",
       "<table border=\"1\" class=\"dataframe\">\n",
       "  <thead>\n",
       "    <tr style=\"text-align: right;\">\n",
       "      <th></th>\n",
       "      <th>title</th>\n",
       "      <th>type</th>\n",
       "      <th>url_slug</th>\n",
       "      <th>venue</th>\n",
       "      <th>date</th>\n",
       "      <th>location</th>\n",
       "      <th>talk_url</th>\n",
       "      <th>description</th>\n",
       "    </tr>\n",
       "  </thead>\n",
       "  <tbody>\n",
       "    <tr>\n",
       "      <th>0</th>\n",
       "      <td>The new FBBB’s Laboratory of Bioinformatics an...</td>\n",
       "      <td>Talk</td>\n",
       "      <td>jubilee</td>\n",
       "      <td>The Jubilee Conference of the Faculty of Bioch...</td>\n",
       "      <td>24/09/2021</td>\n",
       "      <td>Jagiellonian University, Krakow, Poland</td>\n",
       "      <td>https://jubileuszwbbib.confer.uj.edu.pl/en_GB/...</td>\n",
       "      <td>[Photo1](JW210926_356.jpg)[Photo2](JW210926_36...</td>\n",
       "    </tr>\n",
       "    <tr>\n",
       "      <th>1</th>\n",
       "      <td>Small RNAs: when the small rule the bigger</td>\n",
       "      <td>Talk</td>\n",
       "      <td>winterschool22</td>\n",
       "      <td>XLIX Winter School of the Faculty of Biochemis...</td>\n",
       "      <td>22/02/2022</td>\n",
       "      <td>Jagiellonian University, Krakow, Poland</td>\n",
       "      <td>https://winterschool.wbbib.uj.edu.pl/en_GB/</td>\n",
       "      <td>Guillem Ylla gave a talk in the workshop title...</td>\n",
       "    </tr>\n",
       "    <tr>\n",
       "      <th>2</th>\n",
       "      <td>Could E93 play the adult specifier role in the...</td>\n",
       "      <td>Talk</td>\n",
       "      <td>ice2022</td>\n",
       "      <td>International Congress of Entomology 2022.</td>\n",
       "      <td>20/07/2022</td>\n",
       "      <td>Helsinki, Finland</td>\n",
       "      <td>https://ice2020helsinki.fi/</td>\n",
       "      <td>NaN</td>\n",
       "    </tr>\n",
       "    <tr>\n",
       "      <th>3</th>\n",
       "      <td>Comparative genomics of insects to unveil the ...</td>\n",
       "      <td>Talk</td>\n",
       "      <td>Bibtorun2022</td>\n",
       "      <td>Bioinformatics in Torun conference by the Poli...</td>\n",
       "      <td>24/06/2022</td>\n",
       "      <td>Torun, Poland</td>\n",
       "      <td>https://www.ptbi.org.pl/website/conferences/bi...</td>\n",
       "      <td>NaN</td>\n",
       "    </tr>\n",
       "    <tr>\n",
       "      <th>4</th>\n",
       "      <td>Cricket genomes: unveiling the genomes of futu...</td>\n",
       "      <td>Talk</td>\n",
       "      <td>PCG2022</td>\n",
       "      <td>6th Polish Congress of Genetics</td>\n",
       "      <td>30/06/2022</td>\n",
       "      <td>Krakow, Pland</td>\n",
       "      <td>https://kongresgenetyki2022.jordan.pl/</td>\n",
       "      <td>[Photo4](IMG_0161.jpg)</td>\n",
       "    </tr>\n",
       "    <tr>\n",
       "      <th>5</th>\n",
       "      <td>Non-traditional insect models are key for unde...</td>\n",
       "      <td>Talk</td>\n",
       "      <td>NtrAMS</td>\n",
       "      <td>Non-Traditional Arthropod Model Systems Meetin...</td>\n",
       "      <td>03/08/2023</td>\n",
       "      <td>Bowdoin College, Brunswick, Maine, USA</td>\n",
       "      <td>https://www.bowdoin.edu/events/conferences/ntr...</td>\n",
       "      <td>NaN</td>\n",
       "    </tr>\n",
       "    <tr>\n",
       "      <th>6</th>\n",
       "      <td>Using bioinformatics to unveil the mysteries o...</td>\n",
       "      <td>Talk</td>\n",
       "      <td>ICG-18</td>\n",
       "      <td>18th Annual Meeting of the International Confe...</td>\n",
       "      <td>26/07/2023</td>\n",
       "      <td>Shenzhen, China, July 26h 2023</td>\n",
       "      <td>https://icg.bio/en/ICG18index/index.aspx</td>\n",
       "      <td>NaN</td>\n",
       "    </tr>\n",
       "    <tr>\n",
       "      <th>7</th>\n",
       "      <td>Using bioinformatics to unveil the mysteries o...</td>\n",
       "      <td>Talk</td>\n",
       "      <td>Genomica</td>\n",
       "      <td>7th Polish Conference of Genetics: “Genomica”</td>\n",
       "      <td>20/05/2023</td>\n",
       "      <td>Jagiellonian University, Krakow, Poland</td>\n",
       "      <td>http://www.genomica.pl/en/home-page/</td>\n",
       "      <td>NaN</td>\n",
       "    </tr>\n",
       "  </tbody>\n",
       "</table>\n",
       "</div>"
      ],
      "text/plain": [
       "                                               title  type        url_slug  \\\n",
       "0  The new FBBB’s Laboratory of Bioinformatics an...  Talk         jubilee   \n",
       "1         Small RNAs: when the small rule the bigger  Talk  winterschool22   \n",
       "2  Could E93 play the adult specifier role in the...  Talk         ice2022   \n",
       "3  Comparative genomics of insects to unveil the ...  Talk    Bibtorun2022   \n",
       "4  Cricket genomes: unveiling the genomes of futu...  Talk         PCG2022   \n",
       "5  Non-traditional insect models are key for unde...  Talk          NtrAMS   \n",
       "6  Using bioinformatics to unveil the mysteries o...  Talk          ICG-18   \n",
       "7  Using bioinformatics to unveil the mysteries o...  Talk        Genomica   \n",
       "\n",
       "                                               venue        date  \\\n",
       "0  The Jubilee Conference of the Faculty of Bioch...  24/09/2021   \n",
       "1  XLIX Winter School of the Faculty of Biochemis...  22/02/2022   \n",
       "2         International Congress of Entomology 2022.  20/07/2022   \n",
       "3  Bioinformatics in Torun conference by the Poli...  24/06/2022   \n",
       "4                    6th Polish Congress of Genetics  30/06/2022   \n",
       "5  Non-Traditional Arthropod Model Systems Meetin...  03/08/2023   \n",
       "6  18th Annual Meeting of the International Confe...  26/07/2023   \n",
       "7      7th Polish Conference of Genetics: “Genomica”  20/05/2023   \n",
       "\n",
       "                                  location  \\\n",
       "0  Jagiellonian University, Krakow, Poland   \n",
       "1  Jagiellonian University, Krakow, Poland   \n",
       "2                        Helsinki, Finland   \n",
       "3                            Torun, Poland   \n",
       "4                            Krakow, Pland   \n",
       "5   Bowdoin College, Brunswick, Maine, USA   \n",
       "6           Shenzhen, China, July 26h 2023   \n",
       "7  Jagiellonian University, Krakow, Poland   \n",
       "\n",
       "                                            talk_url  \\\n",
       "0  https://jubileuszwbbib.confer.uj.edu.pl/en_GB/...   \n",
       "1        https://winterschool.wbbib.uj.edu.pl/en_GB/   \n",
       "2                        https://ice2020helsinki.fi/   \n",
       "3  https://www.ptbi.org.pl/website/conferences/bi...   \n",
       "4             https://kongresgenetyki2022.jordan.pl/   \n",
       "5  https://www.bowdoin.edu/events/conferences/ntr...   \n",
       "6           https://icg.bio/en/ICG18index/index.aspx   \n",
       "7               http://www.genomica.pl/en/home-page/   \n",
       "\n",
       "                                         description  \n",
       "0  [Photo1](JW210926_356.jpg)[Photo2](JW210926_36...  \n",
       "1  Guillem Ylla gave a talk in the workshop title...  \n",
       "2                                                NaN  \n",
       "3                                                NaN  \n",
       "4                             [Photo4](IMG_0161.jpg)  \n",
       "5                                                NaN  \n",
       "6                                                NaN  \n",
       "7                                                NaN  "
      ]
     },
     "execution_count": 3,
     "metadata": {},
     "output_type": "execute_result"
    }
   ],
   "source": [
    "talks = pd.read_csv(\"../_talks/YllaLab_Talks.tsv\", sep=\"\\t\", header=0)\n",
    "talks"
   ]
  },
  {
   "cell_type": "markdown",
   "metadata": {},
   "source": [
    "## Escape special characters\n",
    "\n",
    "YAML is very picky about how it takes a valid string, so we are replacing single and double quotes (and ampersands) with their HTML encoded equivilents. This makes them look not so readable in raw format, but they are parsed and rendered nicely."
   ]
  },
  {
   "cell_type": "code",
   "execution_count": 4,
   "metadata": {
    "jupyter": {
     "outputs_hidden": false
    }
   },
   "outputs": [],
   "source": [
    "html_escape_table = {\n",
    "    \"&\": \"&amp;\",\n",
    "    '\"': \"&quot;\",\n",
    "    \"'\": \"&apos;\"\n",
    "    }\n",
    "\n",
    "def html_escape(text):\n",
    "    if type(text) is str:\n",
    "        return \"\".join(html_escape_table.get(c,c) for c in text)\n",
    "    else:\n",
    "        return \"False\""
   ]
  },
  {
   "cell_type": "markdown",
   "metadata": {},
   "source": [
    "## Creating the markdown files\n",
    "\n",
    "This is where the heavy lifting is done. This loops through all the rows in the TSV dataframe, then starts to concatentate a big string (```md```) that contains the markdown for each type. It does the YAML metadata first, then does the description for the individual page."
   ]
  },
  {
   "cell_type": "code",
   "execution_count": 5,
   "metadata": {
    "jupyter": {
     "outputs_hidden": false
    }
   },
   "outputs": [],
   "source": [
    "loc_dict = {}\n",
    "\n",
    "for row, item in talks.iterrows():\n",
    "    \n",
    "    md_filename = str(item.date) + \"-\" + item.url_slug + \".md\"\n",
    "    html_filename = str(item.date) + \"-\" + item.url_slug \n",
    "    year = item.date[:4]\n",
    "    \n",
    "    md = \"---\\ntitle: \\\"\"   + item.title + '\"\\n'\n",
    "    md += \"collection: talks\" + \"\\n\"\n",
    "    \n",
    "    if len(str(item.type)) > 3:\n",
    "        md += 'type: \"' + item.type + '\"\\n'\n",
    "    else:\n",
    "        md += 'type: \"Talk\"\\n'\n",
    "    \n",
    "    md += \"permalink: /talks/\" + html_filename + \"\\n\"\n",
    "    \n",
    "    if len(str(item.venue)) > 3:\n",
    "        md += 'venue: \"' + item.venue + '\"\\n'\n",
    "        \n",
    "    if len(str(item.location)) > 3:\n",
    "        md += \"date: \" + str(item.date) + \"\\n\"\n",
    "    \n",
    "    if len(str(item.location)) > 3:\n",
    "        md += 'location: \"' + str(item.location) + '\"\\n'\n",
    "           \n",
    "    md += \"---\\n\"\n",
    "    \n",
    "    \n",
    "    if len(str(item.talk_url)) > 3:\n",
    "        md += \"\\n[More information here](\" + item.talk_url + \")\\n\" \n",
    "        \n",
    "    \n",
    "    if len(str(item.description)) > 3:\n",
    "        md += \"\\n\" + html_escape(item.description) + \"\\n\"\n",
    "        \n",
    "        \n",
    "    md_filename = os.path.basename(md_filename)\n",
    "    #print(md)\n",
    "    \n",
    "    with open(\"../_talks/\" + md_filename, 'w') as f:\n",
    "        f.write(md)"
   ]
  },
  {
   "cell_type": "markdown",
   "metadata": {},
   "source": [
    "These files are in the talks directory, one directory below where we're working from."
   ]
  },
  {
   "cell_type": "code",
   "execution_count": 6,
   "metadata": {
    "jupyter": {
     "outputs_hidden": false
    }
   },
   "outputs": [
    {
     "name": "stdout",
     "output_type": "stream",
     "text": [
      "2021-jubilee.md\t\t2023-Genomica.md  JW210926_360.jpg\r\n",
      "2022-Bibtorun2022.md\t2023-ICG-18.md\t  JW210926_363.jpg\r\n",
      "2022-ice2022.md\t\t2023-NtrAMS.md\t  WBBiB_Winter_School_2022_slide2.jpg\r\n",
      "2022-PCG2022.md\t\tIMG_0161.jpg\t  YllaLab_Talks.tsv\r\n",
      "2022-winterschool22.md\tJW210926_356.jpg\r\n"
     ]
    }
   ],
   "source": [
    "!ls ../_talks"
   ]
  },
  {
   "cell_type": "code",
   "execution_count": 7,
   "metadata": {
    "jupyter": {
     "outputs_hidden": false
    }
   },
   "outputs": [
    {
     "name": "stdout",
     "output_type": "stream",
     "text": [
      "cat: ../_talks/2013-03-01-tutorial-1.md: No such file or directory\r\n"
     ]
    }
   ],
   "source": [
    "!cat ../_talks/2013-03-01-tutorial-1.md"
   ]
  }
 ],
 "metadata": {
  "kernelspec": {
   "display_name": "Python 3 (ipykernel)",
   "language": "python",
   "name": "python3"
  },
  "language_info": {
   "codemirror_mode": {
    "name": "ipython",
    "version": 3
   },
   "file_extension": ".py",
   "mimetype": "text/x-python",
   "name": "python",
   "nbconvert_exporter": "python",
   "pygments_lexer": "ipython3",
   "version": "3.8.10"
  }
 },
 "nbformat": 4,
 "nbformat_minor": 4
}
